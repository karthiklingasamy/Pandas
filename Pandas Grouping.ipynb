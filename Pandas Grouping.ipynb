{
 "cells": [
  {
   "cell_type": "code",
   "execution_count": 232,
   "metadata": {},
   "outputs": [
    {
     "data": {
      "text/plain": [
       "'1.0.0'"
      ]
     },
     "execution_count": 232,
     "metadata": {},
     "output_type": "execute_result"
    }
   ],
   "source": [
    "import pandas as pd\n",
    "import time\n",
    "from datetime import datetime\n",
    "from pandas import ExcelWriter \n",
    "pd.__version__"
   ]
  },
  {
   "cell_type": "code",
   "execution_count": 233,
   "metadata": {},
   "outputs": [],
   "source": [
    "jtlPath=\"D:\\\\Pandas\\\\data\\\\Book1.csv\""
   ]
  },
  {
   "cell_type": "code",
   "execution_count": 234,
   "metadata": {},
   "outputs": [
    {
     "name": "stdout",
     "output_type": "stream",
     "text": [
      "Wall time: 13.9 ms\n"
     ]
    }
   ],
   "source": [
    "jtlColumns = ['timeStamp', 'elapsed','label','bytes','allThreads','success','responseCode','URL']\n",
    "%time df_Jtl=pd.read_csv(jtlPath,usecols=jtlColumns,dtype={'label':'category'})#,nrows=100  "
   ]
  },
  {
   "cell_type": "code",
   "execution_count": 235,
   "metadata": {},
   "outputs": [
    {
     "data": {
      "text/plain": [
       "25.5"
      ]
     },
     "execution_count": 235,
     "metadata": {},
     "output_type": "execute_result"
    }
   ],
   "source": [
    "df_Jtl['elapsed'].median()"
   ]
  },
  {
   "cell_type": "code",
   "execution_count": 236,
   "metadata": {},
   "outputs": [
    {
     "data": {
      "text/plain": [
       "timeStamp       1.590000e+12\n",
       "elapsed         2.550000e+01\n",
       "responseCode    2.000000e+02\n",
       "success         1.000000e+00\n",
       "bytes           2.410000e+02\n",
       "allThreads      4.000000e+00\n",
       "dtype: float64"
      ]
     },
     "execution_count": 236,
     "metadata": {},
     "output_type": "execute_result"
    }
   ],
   "source": [
    "df_Jtl.median()"
   ]
  },
  {
   "cell_type": "code",
   "execution_count": 237,
   "metadata": {},
   "outputs": [
    {
     "data": {
      "text/html": [
       "<div>\n",
       "<style scoped>\n",
       "    .dataframe tbody tr th:only-of-type {\n",
       "        vertical-align: middle;\n",
       "    }\n",
       "\n",
       "    .dataframe tbody tr th {\n",
       "        vertical-align: top;\n",
       "    }\n",
       "\n",
       "    .dataframe thead th {\n",
       "        text-align: right;\n",
       "    }\n",
       "</style>\n",
       "<table border=\"1\" class=\"dataframe\">\n",
       "  <thead>\n",
       "    <tr style=\"text-align: right;\">\n",
       "      <th></th>\n",
       "      <th>timeStamp</th>\n",
       "      <th>elapsed</th>\n",
       "      <th>responseCode</th>\n",
       "      <th>bytes</th>\n",
       "      <th>allThreads</th>\n",
       "    </tr>\n",
       "  </thead>\n",
       "  <tbody>\n",
       "    <tr>\n",
       "      <th>count</th>\n",
       "      <td>6.000000e+01</td>\n",
       "      <td>60.000000</td>\n",
       "      <td>60.0</td>\n",
       "      <td>60.000000</td>\n",
       "      <td>60.000000</td>\n",
       "    </tr>\n",
       "    <tr>\n",
       "      <th>mean</th>\n",
       "      <td>1.590000e+12</td>\n",
       "      <td>73.700000</td>\n",
       "      <td>200.0</td>\n",
       "      <td>320.000000</td>\n",
       "      <td>3.366667</td>\n",
       "    </tr>\n",
       "    <tr>\n",
       "      <th>std</th>\n",
       "      <td>0.000000e+00</td>\n",
       "      <td>113.821195</td>\n",
       "      <td>0.0</td>\n",
       "      <td>114.094816</td>\n",
       "      <td>0.956098</td>\n",
       "    </tr>\n",
       "    <tr>\n",
       "      <th>min</th>\n",
       "      <td>1.590000e+12</td>\n",
       "      <td>16.000000</td>\n",
       "      <td>200.0</td>\n",
       "      <td>239.000000</td>\n",
       "      <td>1.000000</td>\n",
       "    </tr>\n",
       "    <tr>\n",
       "      <th>25%</th>\n",
       "      <td>1.590000e+12</td>\n",
       "      <td>19.750000</td>\n",
       "      <td>200.0</td>\n",
       "      <td>239.000000</td>\n",
       "      <td>2.000000</td>\n",
       "    </tr>\n",
       "    <tr>\n",
       "      <th>50%</th>\n",
       "      <td>1.590000e+12</td>\n",
       "      <td>25.500000</td>\n",
       "      <td>200.0</td>\n",
       "      <td>241.000000</td>\n",
       "      <td>4.000000</td>\n",
       "    </tr>\n",
       "    <tr>\n",
       "      <th>75%</th>\n",
       "      <td>1.590000e+12</td>\n",
       "      <td>47.250000</td>\n",
       "      <td>200.0</td>\n",
       "      <td>480.000000</td>\n",
       "      <td>4.000000</td>\n",
       "    </tr>\n",
       "    <tr>\n",
       "      <th>max</th>\n",
       "      <td>1.590000e+12</td>\n",
       "      <td>468.000000</td>\n",
       "      <td>200.0</td>\n",
       "      <td>480.000000</td>\n",
       "      <td>4.000000</td>\n",
       "    </tr>\n",
       "  </tbody>\n",
       "</table>\n",
       "</div>"
      ],
      "text/plain": [
       "          timeStamp     elapsed  responseCode       bytes  allThreads\n",
       "count  6.000000e+01   60.000000          60.0   60.000000   60.000000\n",
       "mean   1.590000e+12   73.700000         200.0  320.000000    3.366667\n",
       "std    0.000000e+00  113.821195           0.0  114.094816    0.956098\n",
       "min    1.590000e+12   16.000000         200.0  239.000000    1.000000\n",
       "25%    1.590000e+12   19.750000         200.0  239.000000    2.000000\n",
       "50%    1.590000e+12   25.500000         200.0  241.000000    4.000000\n",
       "75%    1.590000e+12   47.250000         200.0  480.000000    4.000000\n",
       "max    1.590000e+12  468.000000         200.0  480.000000    4.000000"
      ]
     },
     "execution_count": 237,
     "metadata": {},
     "output_type": "execute_result"
    }
   ],
   "source": [
    "df_Jtl.describe()"
   ]
  },
  {
   "cell_type": "code",
   "execution_count": 238,
   "metadata": {},
   "outputs": [
    {
     "data": {
      "text/plain": [
       "count     60.000000\n",
       "mean      73.700000\n",
       "std      113.821195\n",
       "min       16.000000\n",
       "25%       19.750000\n",
       "50%       25.500000\n",
       "75%       47.250000\n",
       "max      468.000000\n",
       "Name: elapsed, dtype: float64"
      ]
     },
     "execution_count": 238,
     "metadata": {},
     "output_type": "execute_result"
    }
   ],
   "source": [
    "df_Jtl['elapsed'].describe()"
   ]
  },
  {
   "cell_type": "code",
   "execution_count": 239,
   "metadata": {},
   "outputs": [
    {
     "data": {
      "text/plain": [
       "60"
      ]
     },
     "execution_count": 239,
     "metadata": {},
     "output_type": "execute_result"
    }
   ],
   "source": [
    "df_Jtl['label'].count()"
   ]
  },
  {
   "cell_type": "code",
   "execution_count": 240,
   "metadata": {},
   "outputs": [
    {
     "data": {
      "text/plain": [
       "BP02_eIACSTransactionTime-1    10\n",
       "BP02_eIACSTransactionTime-0    10\n",
       "BP02_eIACSTransactionTime      10\n",
       "BP01_BikeCounterStatus-1       10\n",
       "BP01_BikeCounterStatus-0       10\n",
       "BP01_BikeCounterStatus         10\n",
       "Name: label, dtype: int64"
      ]
     },
     "execution_count": 240,
     "metadata": {},
     "output_type": "execute_result"
    }
   ],
   "source": [
    "df_Jtl['label'].value_counts()"
   ]
  },
  {
   "cell_type": "code",
   "execution_count": 241,
   "metadata": {},
   "outputs": [
    {
     "data": {
      "text/plain": [
       "BP02_eIACSTransactionTime-1    10\n",
       "BP02_eIACSTransactionTime-0    10\n",
       "BP02_eIACSTransactionTime      10\n",
       "BP01_BikeCounterStatus-1       10\n",
       "BP01_BikeCounterStatus-0       10\n",
       "BP01_BikeCounterStatus         10\n",
       "Name: label, dtype: int64"
      ]
     },
     "execution_count": 241,
     "metadata": {},
     "output_type": "execute_result"
    }
   ],
   "source": [
    "df_Jtl['label'].value_counts()"
   ]
  },
  {
   "cell_type": "code",
   "execution_count": 242,
   "metadata": {},
   "outputs": [
    {
     "data": {
      "text/plain": [
       "True     0.95\n",
       "False    0.05\n",
       "Name: success, dtype: float64"
      ]
     },
     "execution_count": 242,
     "metadata": {},
     "output_type": "execute_result"
    }
   ],
   "source": [
    "df_Jtl['success'].value_counts(normalize=True)"
   ]
  },
  {
   "cell_type": "code",
   "execution_count": 243,
   "metadata": {},
   "outputs": [],
   "source": [
    "label_grp=df_Jtl.groupby(['label'])"
   ]
  },
  {
   "cell_type": "code",
   "execution_count": 244,
   "metadata": {},
   "outputs": [
    {
     "data": {
      "text/html": [
       "<div>\n",
       "<style scoped>\n",
       "    .dataframe tbody tr th:only-of-type {\n",
       "        vertical-align: middle;\n",
       "    }\n",
       "\n",
       "    .dataframe tbody tr th {\n",
       "        vertical-align: top;\n",
       "    }\n",
       "\n",
       "    .dataframe thead th {\n",
       "        text-align: right;\n",
       "    }\n",
       "</style>\n",
       "<table border=\"1\" class=\"dataframe\">\n",
       "  <thead>\n",
       "    <tr style=\"text-align: right;\">\n",
       "      <th></th>\n",
       "      <th>timeStamp</th>\n",
       "      <th>elapsed</th>\n",
       "      <th>label</th>\n",
       "      <th>responseCode</th>\n",
       "      <th>success</th>\n",
       "      <th>bytes</th>\n",
       "      <th>allThreads</th>\n",
       "      <th>URL</th>\n",
       "    </tr>\n",
       "  </thead>\n",
       "  <tbody>\n",
       "    <tr>\n",
       "      <th>9</th>\n",
       "      <td>1.590000e+12</td>\n",
       "      <td>275</td>\n",
       "      <td>BP01_BikeCounterStatus</td>\n",
       "      <td>200</td>\n",
       "      <td>True</td>\n",
       "      <td>480</td>\n",
       "      <td>4</td>\n",
       "      <td>NaN</td>\n",
       "    </tr>\n",
       "    <tr>\n",
       "      <th>12</th>\n",
       "      <td>1.590000e+12</td>\n",
       "      <td>468</td>\n",
       "      <td>BP01_BikeCounterStatus</td>\n",
       "      <td>200</td>\n",
       "      <td>True</td>\n",
       "      <td>480</td>\n",
       "      <td>4</td>\n",
       "      <td>NaN</td>\n",
       "    </tr>\n",
       "    <tr>\n",
       "      <th>27</th>\n",
       "      <td>1.590000e+12</td>\n",
       "      <td>70</td>\n",
       "      <td>BP01_BikeCounterStatus</td>\n",
       "      <td>200</td>\n",
       "      <td>True</td>\n",
       "      <td>480</td>\n",
       "      <td>4</td>\n",
       "      <td>NaN</td>\n",
       "    </tr>\n",
       "    <tr>\n",
       "      <th>30</th>\n",
       "      <td>1.590000e+12</td>\n",
       "      <td>39</td>\n",
       "      <td>BP01_BikeCounterStatus</td>\n",
       "      <td>200</td>\n",
       "      <td>True</td>\n",
       "      <td>480</td>\n",
       "      <td>4</td>\n",
       "      <td>NaN</td>\n",
       "    </tr>\n",
       "    <tr>\n",
       "      <th>42</th>\n",
       "      <td>1.590000e+12</td>\n",
       "      <td>38</td>\n",
       "      <td>BP01_BikeCounterStatus</td>\n",
       "      <td>200</td>\n",
       "      <td>True</td>\n",
       "      <td>480</td>\n",
       "      <td>2</td>\n",
       "      <td>NaN</td>\n",
       "    </tr>\n",
       "    <tr>\n",
       "      <th>45</th>\n",
       "      <td>1.590000e+12</td>\n",
       "      <td>121</td>\n",
       "      <td>BP01_BikeCounterStatus</td>\n",
       "      <td>200</td>\n",
       "      <td>True</td>\n",
       "      <td>480</td>\n",
       "      <td>2</td>\n",
       "      <td>NaN</td>\n",
       "    </tr>\n",
       "    <tr>\n",
       "      <th>48</th>\n",
       "      <td>1.590000e+12</td>\n",
       "      <td>43</td>\n",
       "      <td>BP01_BikeCounterStatus</td>\n",
       "      <td>200</td>\n",
       "      <td>True</td>\n",
       "      <td>480</td>\n",
       "      <td>2</td>\n",
       "      <td>NaN</td>\n",
       "    </tr>\n",
       "    <tr>\n",
       "      <th>51</th>\n",
       "      <td>1.590000e+12</td>\n",
       "      <td>41</td>\n",
       "      <td>BP01_BikeCounterStatus</td>\n",
       "      <td>200</td>\n",
       "      <td>True</td>\n",
       "      <td>480</td>\n",
       "      <td>2</td>\n",
       "      <td>NaN</td>\n",
       "    </tr>\n",
       "    <tr>\n",
       "      <th>54</th>\n",
       "      <td>1.590000e+12</td>\n",
       "      <td>39</td>\n",
       "      <td>BP01_BikeCounterStatus</td>\n",
       "      <td>200</td>\n",
       "      <td>True</td>\n",
       "      <td>480</td>\n",
       "      <td>2</td>\n",
       "      <td>NaN</td>\n",
       "    </tr>\n",
       "    <tr>\n",
       "      <th>57</th>\n",
       "      <td>1.590000e+12</td>\n",
       "      <td>43</td>\n",
       "      <td>BP01_BikeCounterStatus</td>\n",
       "      <td>200</td>\n",
       "      <td>True</td>\n",
       "      <td>480</td>\n",
       "      <td>1</td>\n",
       "      <td>NaN</td>\n",
       "    </tr>\n",
       "  </tbody>\n",
       "</table>\n",
       "</div>"
      ],
      "text/plain": [
       "       timeStamp  elapsed                   label  responseCode  success  \\\n",
       "9   1.590000e+12      275  BP01_BikeCounterStatus           200     True   \n",
       "12  1.590000e+12      468  BP01_BikeCounterStatus           200     True   \n",
       "27  1.590000e+12       70  BP01_BikeCounterStatus           200     True   \n",
       "30  1.590000e+12       39  BP01_BikeCounterStatus           200     True   \n",
       "42  1.590000e+12       38  BP01_BikeCounterStatus           200     True   \n",
       "45  1.590000e+12      121  BP01_BikeCounterStatus           200     True   \n",
       "48  1.590000e+12       43  BP01_BikeCounterStatus           200     True   \n",
       "51  1.590000e+12       41  BP01_BikeCounterStatus           200     True   \n",
       "54  1.590000e+12       39  BP01_BikeCounterStatus           200     True   \n",
       "57  1.590000e+12       43  BP01_BikeCounterStatus           200     True   \n",
       "\n",
       "    bytes  allThreads  URL  \n",
       "9     480           4  NaN  \n",
       "12    480           4  NaN  \n",
       "27    480           4  NaN  \n",
       "30    480           4  NaN  \n",
       "42    480           2  NaN  \n",
       "45    480           2  NaN  \n",
       "48    480           2  NaN  \n",
       "51    480           2  NaN  \n",
       "54    480           2  NaN  \n",
       "57    480           1  NaN  "
      ]
     },
     "execution_count": 244,
     "metadata": {},
     "output_type": "execute_result"
    }
   ],
   "source": [
    "label_grp.get_group('BP01_BikeCounterStatus')"
   ]
  },
  {
   "cell_type": "code",
   "execution_count": 245,
   "metadata": {},
   "outputs": [
    {
     "data": {
      "text/html": [
       "<div>\n",
       "<style scoped>\n",
       "    .dataframe tbody tr th:only-of-type {\n",
       "        vertical-align: middle;\n",
       "    }\n",
       "\n",
       "    .dataframe tbody tr th {\n",
       "        vertical-align: top;\n",
       "    }\n",
       "\n",
       "    .dataframe thead th {\n",
       "        text-align: right;\n",
       "    }\n",
       "</style>\n",
       "<table border=\"1\" class=\"dataframe\">\n",
       "  <thead>\n",
       "    <tr style=\"text-align: right;\">\n",
       "      <th></th>\n",
       "      <th>timeStamp</th>\n",
       "      <th>elapsed</th>\n",
       "      <th>label</th>\n",
       "      <th>responseCode</th>\n",
       "      <th>success</th>\n",
       "      <th>bytes</th>\n",
       "      <th>allThreads</th>\n",
       "      <th>URL</th>\n",
       "    </tr>\n",
       "  </thead>\n",
       "  <tbody>\n",
       "    <tr>\n",
       "      <th>0</th>\n",
       "      <td>1.590000e+12</td>\n",
       "      <td>193</td>\n",
       "      <td>BP02_eIACSTransactionTime</td>\n",
       "      <td>200</td>\n",
       "      <td>False</td>\n",
       "      <td>480</td>\n",
       "      <td>4</td>\n",
       "      <td>NaN</td>\n",
       "    </tr>\n",
       "    <tr>\n",
       "      <th>3</th>\n",
       "      <td>1.590000e+12</td>\n",
       "      <td>465</td>\n",
       "      <td>BP02_eIACSTransactionTime</td>\n",
       "      <td>200</td>\n",
       "      <td>True</td>\n",
       "      <td>480</td>\n",
       "      <td>4</td>\n",
       "      <td>NaN</td>\n",
       "    </tr>\n",
       "    <tr>\n",
       "      <th>6</th>\n",
       "      <td>1.590000e+12</td>\n",
       "      <td>34</td>\n",
       "      <td>BP02_eIACSTransactionTime</td>\n",
       "      <td>200</td>\n",
       "      <td>True</td>\n",
       "      <td>480</td>\n",
       "      <td>4</td>\n",
       "      <td>NaN</td>\n",
       "    </tr>\n",
       "    <tr>\n",
       "      <th>15</th>\n",
       "      <td>1.590000e+12</td>\n",
       "      <td>36</td>\n",
       "      <td>BP02_eIACSTransactionTime</td>\n",
       "      <td>200</td>\n",
       "      <td>True</td>\n",
       "      <td>480</td>\n",
       "      <td>4</td>\n",
       "      <td>NaN</td>\n",
       "    </tr>\n",
       "    <tr>\n",
       "      <th>18</th>\n",
       "      <td>1.590000e+12</td>\n",
       "      <td>42</td>\n",
       "      <td>BP02_eIACSTransactionTime</td>\n",
       "      <td>200</td>\n",
       "      <td>True</td>\n",
       "      <td>480</td>\n",
       "      <td>4</td>\n",
       "      <td>NaN</td>\n",
       "    </tr>\n",
       "    <tr>\n",
       "      <th>21</th>\n",
       "      <td>1.590000e+12</td>\n",
       "      <td>101</td>\n",
       "      <td>BP02_eIACSTransactionTime</td>\n",
       "      <td>200</td>\n",
       "      <td>True</td>\n",
       "      <td>480</td>\n",
       "      <td>4</td>\n",
       "      <td>NaN</td>\n",
       "    </tr>\n",
       "    <tr>\n",
       "      <th>24</th>\n",
       "      <td>1.590000e+12</td>\n",
       "      <td>46</td>\n",
       "      <td>BP02_eIACSTransactionTime</td>\n",
       "      <td>200</td>\n",
       "      <td>True</td>\n",
       "      <td>480</td>\n",
       "      <td>4</td>\n",
       "      <td>NaN</td>\n",
       "    </tr>\n",
       "    <tr>\n",
       "      <th>33</th>\n",
       "      <td>1.590000e+12</td>\n",
       "      <td>36</td>\n",
       "      <td>BP02_eIACSTransactionTime</td>\n",
       "      <td>200</td>\n",
       "      <td>True</td>\n",
       "      <td>480</td>\n",
       "      <td>4</td>\n",
       "      <td>NaN</td>\n",
       "    </tr>\n",
       "    <tr>\n",
       "      <th>36</th>\n",
       "      <td>1.590000e+12</td>\n",
       "      <td>44</td>\n",
       "      <td>BP02_eIACSTransactionTime</td>\n",
       "      <td>200</td>\n",
       "      <td>True</td>\n",
       "      <td>480</td>\n",
       "      <td>4</td>\n",
       "      <td>NaN</td>\n",
       "    </tr>\n",
       "    <tr>\n",
       "      <th>39</th>\n",
       "      <td>1.590000e+12</td>\n",
       "      <td>37</td>\n",
       "      <td>BP02_eIACSTransactionTime</td>\n",
       "      <td>200</td>\n",
       "      <td>True</td>\n",
       "      <td>480</td>\n",
       "      <td>3</td>\n",
       "      <td>NaN</td>\n",
       "    </tr>\n",
       "  </tbody>\n",
       "</table>\n",
       "</div>"
      ],
      "text/plain": [
       "       timeStamp  elapsed                      label  responseCode  success  \\\n",
       "0   1.590000e+12      193  BP02_eIACSTransactionTime           200    False   \n",
       "3   1.590000e+12      465  BP02_eIACSTransactionTime           200     True   \n",
       "6   1.590000e+12       34  BP02_eIACSTransactionTime           200     True   \n",
       "15  1.590000e+12       36  BP02_eIACSTransactionTime           200     True   \n",
       "18  1.590000e+12       42  BP02_eIACSTransactionTime           200     True   \n",
       "21  1.590000e+12      101  BP02_eIACSTransactionTime           200     True   \n",
       "24  1.590000e+12       46  BP02_eIACSTransactionTime           200     True   \n",
       "33  1.590000e+12       36  BP02_eIACSTransactionTime           200     True   \n",
       "36  1.590000e+12       44  BP02_eIACSTransactionTime           200     True   \n",
       "39  1.590000e+12       37  BP02_eIACSTransactionTime           200     True   \n",
       "\n",
       "    bytes  allThreads  URL  \n",
       "0     480           4  NaN  \n",
       "3     480           4  NaN  \n",
       "6     480           4  NaN  \n",
       "15    480           4  NaN  \n",
       "18    480           4  NaN  \n",
       "21    480           4  NaN  \n",
       "24    480           4  NaN  \n",
       "33    480           4  NaN  \n",
       "36    480           4  NaN  \n",
       "39    480           3  NaN  "
      ]
     },
     "execution_count": 245,
     "metadata": {},
     "output_type": "execute_result"
    }
   ],
   "source": [
    "label_grp.get_group('BP02_eIACSTransactionTime')"
   ]
  },
  {
   "cell_type": "code",
   "execution_count": 246,
   "metadata": {},
   "outputs": [
    {
     "data": {
      "text/html": [
       "<div>\n",
       "<style scoped>\n",
       "    .dataframe tbody tr th:only-of-type {\n",
       "        vertical-align: middle;\n",
       "    }\n",
       "\n",
       "    .dataframe tbody tr th {\n",
       "        vertical-align: top;\n",
       "    }\n",
       "\n",
       "    .dataframe thead th {\n",
       "        text-align: right;\n",
       "    }\n",
       "</style>\n",
       "<table border=\"1\" class=\"dataframe\">\n",
       "  <thead>\n",
       "    <tr style=\"text-align: right;\">\n",
       "      <th></th>\n",
       "      <th>timeStamp</th>\n",
       "      <th>elapsed</th>\n",
       "      <th>label</th>\n",
       "      <th>responseCode</th>\n",
       "      <th>success</th>\n",
       "      <th>bytes</th>\n",
       "      <th>allThreads</th>\n",
       "      <th>URL</th>\n",
       "    </tr>\n",
       "  </thead>\n",
       "  <tbody>\n",
       "    <tr>\n",
       "      <th>9</th>\n",
       "      <td>1.590000e+12</td>\n",
       "      <td>275</td>\n",
       "      <td>BP01_BikeCounterStatus</td>\n",
       "      <td>200</td>\n",
       "      <td>True</td>\n",
       "      <td>480</td>\n",
       "      <td>4</td>\n",
       "      <td>NaN</td>\n",
       "    </tr>\n",
       "    <tr>\n",
       "      <th>12</th>\n",
       "      <td>1.590000e+12</td>\n",
       "      <td>468</td>\n",
       "      <td>BP01_BikeCounterStatus</td>\n",
       "      <td>200</td>\n",
       "      <td>True</td>\n",
       "      <td>480</td>\n",
       "      <td>4</td>\n",
       "      <td>NaN</td>\n",
       "    </tr>\n",
       "    <tr>\n",
       "      <th>27</th>\n",
       "      <td>1.590000e+12</td>\n",
       "      <td>70</td>\n",
       "      <td>BP01_BikeCounterStatus</td>\n",
       "      <td>200</td>\n",
       "      <td>True</td>\n",
       "      <td>480</td>\n",
       "      <td>4</td>\n",
       "      <td>NaN</td>\n",
       "    </tr>\n",
       "    <tr>\n",
       "      <th>30</th>\n",
       "      <td>1.590000e+12</td>\n",
       "      <td>39</td>\n",
       "      <td>BP01_BikeCounterStatus</td>\n",
       "      <td>200</td>\n",
       "      <td>True</td>\n",
       "      <td>480</td>\n",
       "      <td>4</td>\n",
       "      <td>NaN</td>\n",
       "    </tr>\n",
       "    <tr>\n",
       "      <th>42</th>\n",
       "      <td>1.590000e+12</td>\n",
       "      <td>38</td>\n",
       "      <td>BP01_BikeCounterStatus</td>\n",
       "      <td>200</td>\n",
       "      <td>True</td>\n",
       "      <td>480</td>\n",
       "      <td>2</td>\n",
       "      <td>NaN</td>\n",
       "    </tr>\n",
       "    <tr>\n",
       "      <th>45</th>\n",
       "      <td>1.590000e+12</td>\n",
       "      <td>121</td>\n",
       "      <td>BP01_BikeCounterStatus</td>\n",
       "      <td>200</td>\n",
       "      <td>True</td>\n",
       "      <td>480</td>\n",
       "      <td>2</td>\n",
       "      <td>NaN</td>\n",
       "    </tr>\n",
       "    <tr>\n",
       "      <th>48</th>\n",
       "      <td>1.590000e+12</td>\n",
       "      <td>43</td>\n",
       "      <td>BP01_BikeCounterStatus</td>\n",
       "      <td>200</td>\n",
       "      <td>True</td>\n",
       "      <td>480</td>\n",
       "      <td>2</td>\n",
       "      <td>NaN</td>\n",
       "    </tr>\n",
       "    <tr>\n",
       "      <th>51</th>\n",
       "      <td>1.590000e+12</td>\n",
       "      <td>41</td>\n",
       "      <td>BP01_BikeCounterStatus</td>\n",
       "      <td>200</td>\n",
       "      <td>True</td>\n",
       "      <td>480</td>\n",
       "      <td>2</td>\n",
       "      <td>NaN</td>\n",
       "    </tr>\n",
       "    <tr>\n",
       "      <th>54</th>\n",
       "      <td>1.590000e+12</td>\n",
       "      <td>39</td>\n",
       "      <td>BP01_BikeCounterStatus</td>\n",
       "      <td>200</td>\n",
       "      <td>True</td>\n",
       "      <td>480</td>\n",
       "      <td>2</td>\n",
       "      <td>NaN</td>\n",
       "    </tr>\n",
       "    <tr>\n",
       "      <th>57</th>\n",
       "      <td>1.590000e+12</td>\n",
       "      <td>43</td>\n",
       "      <td>BP01_BikeCounterStatus</td>\n",
       "      <td>200</td>\n",
       "      <td>True</td>\n",
       "      <td>480</td>\n",
       "      <td>1</td>\n",
       "      <td>NaN</td>\n",
       "    </tr>\n",
       "  </tbody>\n",
       "</table>\n",
       "</div>"
      ],
      "text/plain": [
       "       timeStamp  elapsed                   label  responseCode  success  \\\n",
       "9   1.590000e+12      275  BP01_BikeCounterStatus           200     True   \n",
       "12  1.590000e+12      468  BP01_BikeCounterStatus           200     True   \n",
       "27  1.590000e+12       70  BP01_BikeCounterStatus           200     True   \n",
       "30  1.590000e+12       39  BP01_BikeCounterStatus           200     True   \n",
       "42  1.590000e+12       38  BP01_BikeCounterStatus           200     True   \n",
       "45  1.590000e+12      121  BP01_BikeCounterStatus           200     True   \n",
       "48  1.590000e+12       43  BP01_BikeCounterStatus           200     True   \n",
       "51  1.590000e+12       41  BP01_BikeCounterStatus           200     True   \n",
       "54  1.590000e+12       39  BP01_BikeCounterStatus           200     True   \n",
       "57  1.590000e+12       43  BP01_BikeCounterStatus           200     True   \n",
       "\n",
       "    bytes  allThreads  URL  \n",
       "9     480           4  NaN  \n",
       "12    480           4  NaN  \n",
       "27    480           4  NaN  \n",
       "30    480           4  NaN  \n",
       "42    480           2  NaN  \n",
       "45    480           2  NaN  \n",
       "48    480           2  NaN  \n",
       "51    480           2  NaN  \n",
       "54    480           2  NaN  \n",
       "57    480           1  NaN  "
      ]
     },
     "execution_count": 246,
     "metadata": {},
     "output_type": "execute_result"
    }
   ],
   "source": [
    "filt=(df_Jtl['label']==\"BP01_BikeCounterStatus\")\n",
    "df_Jtl.loc[filt]"
   ]
  },
  {
   "cell_type": "code",
   "execution_count": 247,
   "metadata": {},
   "outputs": [
    {
     "data": {
      "text/plain": [
       "True    10\n",
       "Name: success, dtype: int64"
      ]
     },
     "execution_count": 247,
     "metadata": {},
     "output_type": "execute_result"
    }
   ],
   "source": [
    "filt1=(df_Jtl['label']==\"BP01_BikeCounterStatus\")\n",
    "df_Jtl.loc[filt1]['success'].value_counts()"
   ]
  },
  {
   "cell_type": "code",
   "execution_count": 248,
   "metadata": {},
   "outputs": [
    {
     "data": {
      "text/plain": [
       "True     9\n",
       "False    1\n",
       "Name: success, dtype: int64"
      ]
     },
     "execution_count": 248,
     "metadata": {},
     "output_type": "execute_result"
    }
   ],
   "source": [
    "filt2=(df_Jtl['label']=='BP02_eIACSTransactionTime')\n",
    "df_Jtl.loc[filt2]['success'].value_counts()"
   ]
  },
  {
   "cell_type": "code",
   "execution_count": 249,
   "metadata": {},
   "outputs": [
    {
     "data": {
      "text/plain": [
       "label                        success\n",
       "BP01_BikeCounterStatus       True       10\n",
       "BP01_BikeCounterStatus-0     True       10\n",
       "BP01_BikeCounterStatus-1     True       10\n",
       "BP02_eIACSTransactionTime    True        9\n",
       "                             False       1\n",
       "BP02_eIACSTransactionTime-0  True        9\n",
       "                             False       1\n",
       "BP02_eIACSTransactionTime-1  True        9\n",
       "                             False       1\n",
       "Name: success, dtype: int64"
      ]
     },
     "execution_count": 249,
     "metadata": {},
     "output_type": "execute_result"
    }
   ],
   "source": [
    "#Tipes: If we apply function on groupby object will get multiindex series\n",
    "x=label_grp['success'].value_counts()\n",
    "x.loc[:,]"
   ]
  },
  {
   "cell_type": "code",
   "execution_count": 250,
   "metadata": {},
   "outputs": [
    {
     "data": {
      "text/html": [
       "<div>\n",
       "<style scoped>\n",
       "    .dataframe tbody tr th:only-of-type {\n",
       "        vertical-align: middle;\n",
       "    }\n",
       "\n",
       "    .dataframe tbody tr th {\n",
       "        vertical-align: top;\n",
       "    }\n",
       "\n",
       "    .dataframe thead th {\n",
       "        text-align: right;\n",
       "    }\n",
       "</style>\n",
       "<table border=\"1\" class=\"dataframe\">\n",
       "  <thead>\n",
       "    <tr style=\"text-align: right;\">\n",
       "      <th>success</th>\n",
       "      <th>False</th>\n",
       "      <th>True</th>\n",
       "    </tr>\n",
       "    <tr>\n",
       "      <th>label</th>\n",
       "      <th></th>\n",
       "      <th></th>\n",
       "    </tr>\n",
       "  </thead>\n",
       "  <tbody>\n",
       "    <tr>\n",
       "      <th>BP01_BikeCounterStatus</th>\n",
       "      <td>NaN</td>\n",
       "      <td>10.0</td>\n",
       "    </tr>\n",
       "    <tr>\n",
       "      <th>BP01_BikeCounterStatus-0</th>\n",
       "      <td>NaN</td>\n",
       "      <td>10.0</td>\n",
       "    </tr>\n",
       "    <tr>\n",
       "      <th>BP01_BikeCounterStatus-1</th>\n",
       "      <td>NaN</td>\n",
       "      <td>10.0</td>\n",
       "    </tr>\n",
       "    <tr>\n",
       "      <th>BP02_eIACSTransactionTime</th>\n",
       "      <td>1.0</td>\n",
       "      <td>9.0</td>\n",
       "    </tr>\n",
       "    <tr>\n",
       "      <th>BP02_eIACSTransactionTime-0</th>\n",
       "      <td>1.0</td>\n",
       "      <td>9.0</td>\n",
       "    </tr>\n",
       "    <tr>\n",
       "      <th>BP02_eIACSTransactionTime-1</th>\n",
       "      <td>1.0</td>\n",
       "      <td>9.0</td>\n",
       "    </tr>\n",
       "  </tbody>\n",
       "</table>\n",
       "</div>"
      ],
      "text/plain": [
       "success                      False  True \n",
       "label                                    \n",
       "BP01_BikeCounterStatus         NaN   10.0\n",
       "BP01_BikeCounterStatus-0       NaN   10.0\n",
       "BP01_BikeCounterStatus-1       NaN   10.0\n",
       "BP02_eIACSTransactionTime      1.0    9.0\n",
       "BP02_eIACSTransactionTime-0    1.0    9.0\n",
       "BP02_eIACSTransactionTime-1    1.0    9.0"
      ]
     },
     "execution_count": 250,
     "metadata": {},
     "output_type": "execute_result"
    }
   ],
   "source": [
    "#kevin Tips:How to create dataframe from multi index series (method 1). Note methon 2 is pivot table will study later\n",
    "ser=label_grp['success'].value_counts()\n",
    "df_pass_fail=ser.unstack()\n",
    "df_pass_fail\n",
    "#df.loc['BP01_BikeCounterStatus']\n",
    "#df.loc['BP01_BikeCounterStatus',False]\n",
    "#df.loc[:,False]\n"
   ]
  },
  {
   "cell_type": "code",
   "execution_count": 251,
   "metadata": {},
   "outputs": [
    {
     "data": {
      "text/plain": [
       "label                        success\n",
       "BP01_BikeCounterStatus       True       10\n",
       "BP01_BikeCounterStatus-0     True       10\n",
       "BP01_BikeCounterStatus-1     True       10\n",
       "BP02_eIACSTransactionTime    True        9\n",
       "                             False       1\n",
       "BP02_eIACSTransactionTime-0  True        9\n",
       "                             False       1\n",
       "BP02_eIACSTransactionTime-1  True        9\n",
       "                             False       1\n",
       "Name: success, dtype: int64"
      ]
     },
     "execution_count": 251,
     "metadata": {},
     "output_type": "execute_result"
    }
   ],
   "source": [
    "#kevin Tips: How to select values from multi index series\n",
    "#Tip 1: From Outer level, Outer & Inner level, inner level\n",
    "temp_ser=label_grp['success'].value_counts()\n",
    "temp_ser"
   ]
  },
  {
   "cell_type": "code",
   "execution_count": 252,
   "metadata": {},
   "outputs": [
    {
     "data": {
      "text/plain": [
       "success\n",
       "True    10\n",
       "Name: success, dtype: int64"
      ]
     },
     "execution_count": 252,
     "metadata": {},
     "output_type": "execute_result"
    }
   ],
   "source": [
    "#kevin Tips: outer level\n",
    "temp_ser.loc['BP01_BikeCounterStatus']"
   ]
  },
  {
   "cell_type": "code",
   "execution_count": 253,
   "metadata": {},
   "outputs": [
    {
     "ename": "KeyError",
     "evalue": "('BP01_BikeCounterStatus', False)",
     "output_type": "error",
     "traceback": [
      "\u001b[1;31m---------------------------------------------------------------------------\u001b[0m",
      "\u001b[1;31mKeyError\u001b[0m                                  Traceback (most recent call last)",
      "\u001b[1;32mc:\\users\\ibrahim\\appdata\\local\\programs\\python\\python37\\lib\\site-packages\\pandas\\core\\indexes\\multi.py\u001b[0m in \u001b[0;36mget_loc_level\u001b[1;34m(self, key, level, drop_level)\u001b[0m\n\u001b[0;32m   2804\u001b[0m                     \u001b[1;32mtry\u001b[0m\u001b[1;33m:\u001b[0m\u001b[1;33m\u001b[0m\u001b[1;33m\u001b[0m\u001b[0m\n\u001b[1;32m-> 2805\u001b[1;33m                         \u001b[1;32mreturn\u001b[0m \u001b[1;33m(\u001b[0m\u001b[0mself\u001b[0m\u001b[1;33m.\u001b[0m\u001b[0m_engine\u001b[0m\u001b[1;33m.\u001b[0m\u001b[0mget_loc\u001b[0m\u001b[1;33m(\u001b[0m\u001b[0mkey\u001b[0m\u001b[1;33m)\u001b[0m\u001b[1;33m,\u001b[0m \u001b[1;32mNone\u001b[0m\u001b[1;33m)\u001b[0m\u001b[1;33m\u001b[0m\u001b[1;33m\u001b[0m\u001b[0m\n\u001b[0m\u001b[0;32m   2806\u001b[0m                     \u001b[1;32mexcept\u001b[0m \u001b[0mKeyError\u001b[0m \u001b[1;32mas\u001b[0m \u001b[0me\u001b[0m\u001b[1;33m:\u001b[0m\u001b[1;33m\u001b[0m\u001b[1;33m\u001b[0m\u001b[0m\n",
      "\u001b[1;32mpandas\\_libs\\index.pyx\u001b[0m in \u001b[0;36mpandas._libs.index.BaseMultiIndexCodesEngine.get_loc\u001b[1;34m()\u001b[0m\n",
      "\u001b[1;32mpandas\\_libs\\index.pyx\u001b[0m in \u001b[0;36mpandas._libs.index.IndexEngine.get_loc\u001b[1;34m()\u001b[0m\n",
      "\u001b[1;32mpandas\\_libs\\index.pyx\u001b[0m in \u001b[0;36mpandas._libs.index.IndexEngine.get_loc\u001b[1;34m()\u001b[0m\n",
      "\u001b[1;32mpandas\\_libs\\hashtable_class_helper.pxi\u001b[0m in \u001b[0;36mpandas._libs.hashtable.UInt64HashTable.get_item\u001b[1;34m()\u001b[0m\n",
      "\u001b[1;32mpandas\\_libs\\hashtable_class_helper.pxi\u001b[0m in \u001b[0;36mpandas._libs.hashtable.UInt64HashTable.get_item\u001b[1;34m()\u001b[0m\n",
      "\u001b[1;31mKeyError\u001b[0m: 5",
      "\nThe above exception was the direct cause of the following exception:\n",
      "\u001b[1;31mKeyError\u001b[0m                                  Traceback (most recent call last)",
      "\u001b[1;32m<ipython-input-253-e6fac640b833>\u001b[0m in \u001b[0;36m<module>\u001b[1;34m\u001b[0m\n\u001b[0;32m      1\u001b[0m \u001b[1;31m#kevin Tips: outer level & inner level\u001b[0m\u001b[1;33m\u001b[0m\u001b[1;33m\u001b[0m\u001b[1;33m\u001b[0m\u001b[0m\n\u001b[1;32m----> 2\u001b[1;33m \u001b[0mtemp_ser\u001b[0m\u001b[1;33m.\u001b[0m\u001b[0mloc\u001b[0m\u001b[1;33m[\u001b[0m\u001b[1;34m'BP01_BikeCounterStatus'\u001b[0m\u001b[1;33m,\u001b[0m\u001b[1;32mFalse\u001b[0m\u001b[1;33m]\u001b[0m\u001b[1;31m#Note: If you have string pass the value in double quotes\u001b[0m\u001b[1;33m\u001b[0m\u001b[1;33m\u001b[0m\u001b[0m\n\u001b[0m",
      "\u001b[1;32mc:\\users\\ibrahim\\appdata\\local\\programs\\python\\python37\\lib\\site-packages\\pandas\\core\\indexing.py\u001b[0m in \u001b[0;36m__getitem__\u001b[1;34m(self, key)\u001b[0m\n\u001b[0;32m   1758\u001b[0m                 \u001b[1;32mexcept\u001b[0m \u001b[1;33m(\u001b[0m\u001b[0mKeyError\u001b[0m\u001b[1;33m,\u001b[0m \u001b[0mIndexError\u001b[0m\u001b[1;33m,\u001b[0m \u001b[0mAttributeError\u001b[0m\u001b[1;33m)\u001b[0m\u001b[1;33m:\u001b[0m\u001b[1;33m\u001b[0m\u001b[1;33m\u001b[0m\u001b[0m\n\u001b[0;32m   1759\u001b[0m                     \u001b[1;32mpass\u001b[0m\u001b[1;33m\u001b[0m\u001b[1;33m\u001b[0m\u001b[0m\n\u001b[1;32m-> 1760\u001b[1;33m             \u001b[1;32mreturn\u001b[0m \u001b[0mself\u001b[0m\u001b[1;33m.\u001b[0m\u001b[0m_getitem_tuple\u001b[0m\u001b[1;33m(\u001b[0m\u001b[0mkey\u001b[0m\u001b[1;33m)\u001b[0m\u001b[1;33m\u001b[0m\u001b[1;33m\u001b[0m\u001b[0m\n\u001b[0m\u001b[0;32m   1761\u001b[0m         \u001b[1;32melse\u001b[0m\u001b[1;33m:\u001b[0m\u001b[1;33m\u001b[0m\u001b[1;33m\u001b[0m\u001b[0m\n\u001b[0;32m   1762\u001b[0m             \u001b[1;31m# we by definition only have the 0th axis\u001b[0m\u001b[1;33m\u001b[0m\u001b[1;33m\u001b[0m\u001b[1;33m\u001b[0m\u001b[0m\n",
      "\u001b[1;32mc:\\users\\ibrahim\\appdata\\local\\programs\\python\\python37\\lib\\site-packages\\pandas\\core\\indexing.py\u001b[0m in \u001b[0;36m_getitem_tuple\u001b[1;34m(self, tup)\u001b[0m\n\u001b[0;32m   1268\u001b[0m     \u001b[1;32mdef\u001b[0m \u001b[0m_getitem_tuple\u001b[0m\u001b[1;33m(\u001b[0m\u001b[0mself\u001b[0m\u001b[1;33m,\u001b[0m \u001b[0mtup\u001b[0m\u001b[1;33m:\u001b[0m \u001b[0mTuple\u001b[0m\u001b[1;33m)\u001b[0m\u001b[1;33m:\u001b[0m\u001b[1;33m\u001b[0m\u001b[1;33m\u001b[0m\u001b[0m\n\u001b[0;32m   1269\u001b[0m         \u001b[1;32mtry\u001b[0m\u001b[1;33m:\u001b[0m\u001b[1;33m\u001b[0m\u001b[1;33m\u001b[0m\u001b[0m\n\u001b[1;32m-> 1270\u001b[1;33m             \u001b[1;32mreturn\u001b[0m \u001b[0mself\u001b[0m\u001b[1;33m.\u001b[0m\u001b[0m_getitem_lowerdim\u001b[0m\u001b[1;33m(\u001b[0m\u001b[0mtup\u001b[0m\u001b[1;33m)\u001b[0m\u001b[1;33m\u001b[0m\u001b[1;33m\u001b[0m\u001b[0m\n\u001b[0m\u001b[0;32m   1271\u001b[0m         \u001b[1;32mexcept\u001b[0m \u001b[0mIndexingError\u001b[0m\u001b[1;33m:\u001b[0m\u001b[1;33m\u001b[0m\u001b[1;33m\u001b[0m\u001b[0m\n\u001b[0;32m   1272\u001b[0m             \u001b[1;32mpass\u001b[0m\u001b[1;33m\u001b[0m\u001b[1;33m\u001b[0m\u001b[0m\n",
      "\u001b[1;32mc:\\users\\ibrahim\\appdata\\local\\programs\\python\\python37\\lib\\site-packages\\pandas\\core\\indexing.py\u001b[0m in \u001b[0;36m_getitem_lowerdim\u001b[1;34m(self, tup)\u001b[0m\n\u001b[0;32m   1376\u001b[0m         \u001b[1;31m# instead of checking it as multiindex representation (GH 13797)\u001b[0m\u001b[1;33m\u001b[0m\u001b[1;33m\u001b[0m\u001b[1;33m\u001b[0m\u001b[0m\n\u001b[0;32m   1377\u001b[0m         \u001b[1;32mif\u001b[0m \u001b[0misinstance\u001b[0m\u001b[1;33m(\u001b[0m\u001b[0max0\u001b[0m\u001b[1;33m,\u001b[0m \u001b[0mABCMultiIndex\u001b[0m\u001b[1;33m)\u001b[0m \u001b[1;32mand\u001b[0m \u001b[0mself\u001b[0m\u001b[1;33m.\u001b[0m\u001b[0mname\u001b[0m \u001b[1;33m!=\u001b[0m \u001b[1;34m\"iloc\"\u001b[0m\u001b[1;33m:\u001b[0m\u001b[1;33m\u001b[0m\u001b[1;33m\u001b[0m\u001b[0m\n\u001b[1;32m-> 1378\u001b[1;33m             \u001b[0mresult\u001b[0m \u001b[1;33m=\u001b[0m \u001b[0mself\u001b[0m\u001b[1;33m.\u001b[0m\u001b[0m_handle_lowerdim_multi_index_axis0\u001b[0m\u001b[1;33m(\u001b[0m\u001b[0mtup\u001b[0m\u001b[1;33m)\u001b[0m\u001b[1;33m\u001b[0m\u001b[1;33m\u001b[0m\u001b[0m\n\u001b[0m\u001b[0;32m   1379\u001b[0m             \u001b[1;32mif\u001b[0m \u001b[0mresult\u001b[0m \u001b[1;32mis\u001b[0m \u001b[1;32mnot\u001b[0m \u001b[1;32mNone\u001b[0m\u001b[1;33m:\u001b[0m\u001b[1;33m\u001b[0m\u001b[1;33m\u001b[0m\u001b[0m\n\u001b[0;32m   1380\u001b[0m                 \u001b[1;32mreturn\u001b[0m \u001b[0mresult\u001b[0m\u001b[1;33m\u001b[0m\u001b[1;33m\u001b[0m\u001b[0m\n",
      "\u001b[1;32mc:\\users\\ibrahim\\appdata\\local\\programs\\python\\python37\\lib\\site-packages\\pandas\\core\\indexing.py\u001b[0m in \u001b[0;36m_handle_lowerdim_multi_index_axis0\u001b[1;34m(self, tup)\u001b[0m\n\u001b[0;32m   1356\u001b[0m             \u001b[1;31m# else IndexingError will be raised\u001b[0m\u001b[1;33m\u001b[0m\u001b[1;33m\u001b[0m\u001b[1;33m\u001b[0m\u001b[0m\n\u001b[0;32m   1357\u001b[0m             \u001b[1;32mif\u001b[0m \u001b[0mlen\u001b[0m\u001b[1;33m(\u001b[0m\u001b[0mtup\u001b[0m\u001b[1;33m)\u001b[0m \u001b[1;33m<=\u001b[0m \u001b[0mself\u001b[0m\u001b[1;33m.\u001b[0m\u001b[0mobj\u001b[0m\u001b[1;33m.\u001b[0m\u001b[0mindex\u001b[0m\u001b[1;33m.\u001b[0m\u001b[0mnlevels\u001b[0m \u001b[1;32mand\u001b[0m \u001b[0mlen\u001b[0m\u001b[1;33m(\u001b[0m\u001b[0mtup\u001b[0m\u001b[1;33m)\u001b[0m \u001b[1;33m>\u001b[0m \u001b[0mself\u001b[0m\u001b[1;33m.\u001b[0m\u001b[0mndim\u001b[0m\u001b[1;33m:\u001b[0m\u001b[1;33m\u001b[0m\u001b[1;33m\u001b[0m\u001b[0m\n\u001b[1;32m-> 1358\u001b[1;33m                 \u001b[1;32mraise\u001b[0m \u001b[0mek\u001b[0m\u001b[1;33m\u001b[0m\u001b[1;33m\u001b[0m\u001b[0m\n\u001b[0m\u001b[0;32m   1359\u001b[0m \u001b[1;33m\u001b[0m\u001b[0m\n\u001b[0;32m   1360\u001b[0m         \u001b[1;32mreturn\u001b[0m \u001b[1;32mNone\u001b[0m\u001b[1;33m\u001b[0m\u001b[1;33m\u001b[0m\u001b[0m\n",
      "\u001b[1;32mc:\\users\\ibrahim\\appdata\\local\\programs\\python\\python37\\lib\\site-packages\\pandas\\core\\indexing.py\u001b[0m in \u001b[0;36m_handle_lowerdim_multi_index_axis0\u001b[1;34m(self, tup)\u001b[0m\n\u001b[0;32m   1348\u001b[0m         \u001b[1;32mtry\u001b[0m\u001b[1;33m:\u001b[0m\u001b[1;33m\u001b[0m\u001b[1;33m\u001b[0m\u001b[0m\n\u001b[0;32m   1349\u001b[0m             \u001b[1;31m# fast path for series or for tup devoid of slices\u001b[0m\u001b[1;33m\u001b[0m\u001b[1;33m\u001b[0m\u001b[1;33m\u001b[0m\u001b[0m\n\u001b[1;32m-> 1350\u001b[1;33m             \u001b[1;32mreturn\u001b[0m \u001b[0mself\u001b[0m\u001b[1;33m.\u001b[0m\u001b[0m_get_label\u001b[0m\u001b[1;33m(\u001b[0m\u001b[0mtup\u001b[0m\u001b[1;33m,\u001b[0m \u001b[0maxis\u001b[0m\u001b[1;33m=\u001b[0m\u001b[0maxis\u001b[0m\u001b[1;33m)\u001b[0m\u001b[1;33m\u001b[0m\u001b[1;33m\u001b[0m\u001b[0m\n\u001b[0m\u001b[0;32m   1351\u001b[0m         \u001b[1;32mexcept\u001b[0m \u001b[0mTypeError\u001b[0m\u001b[1;33m:\u001b[0m\u001b[1;33m\u001b[0m\u001b[1;33m\u001b[0m\u001b[0m\n\u001b[0;32m   1352\u001b[0m             \u001b[1;31m# slices are unhashable\u001b[0m\u001b[1;33m\u001b[0m\u001b[1;33m\u001b[0m\u001b[1;33m\u001b[0m\u001b[0m\n",
      "\u001b[1;32mc:\\users\\ibrahim\\appdata\\local\\programs\\python\\python37\\lib\\site-packages\\pandas\\core\\indexing.py\u001b[0m in \u001b[0;36m_get_label\u001b[1;34m(self, label, axis)\u001b[0m\n\u001b[0;32m    618\u001b[0m             \u001b[1;31m# but will fail when the index is not present\u001b[0m\u001b[1;33m\u001b[0m\u001b[1;33m\u001b[0m\u001b[1;33m\u001b[0m\u001b[0m\n\u001b[0;32m    619\u001b[0m             \u001b[1;31m# see GH5667\u001b[0m\u001b[1;33m\u001b[0m\u001b[1;33m\u001b[0m\u001b[1;33m\u001b[0m\u001b[0m\n\u001b[1;32m--> 620\u001b[1;33m             \u001b[1;32mreturn\u001b[0m \u001b[0mself\u001b[0m\u001b[1;33m.\u001b[0m\u001b[0mobj\u001b[0m\u001b[1;33m.\u001b[0m\u001b[0m_xs\u001b[0m\u001b[1;33m(\u001b[0m\u001b[0mlabel\u001b[0m\u001b[1;33m,\u001b[0m \u001b[0maxis\u001b[0m\u001b[1;33m=\u001b[0m\u001b[0maxis\u001b[0m\u001b[1;33m)\u001b[0m\u001b[1;33m\u001b[0m\u001b[1;33m\u001b[0m\u001b[0m\n\u001b[0m\u001b[0;32m    621\u001b[0m         \u001b[1;32melif\u001b[0m \u001b[0misinstance\u001b[0m\u001b[1;33m(\u001b[0m\u001b[0mlabel\u001b[0m\u001b[1;33m,\u001b[0m \u001b[0mtuple\u001b[0m\u001b[1;33m)\u001b[0m \u001b[1;32mand\u001b[0m \u001b[0misinstance\u001b[0m\u001b[1;33m(\u001b[0m\u001b[0mlabel\u001b[0m\u001b[1;33m[\u001b[0m\u001b[0maxis\u001b[0m\u001b[1;33m]\u001b[0m\u001b[1;33m,\u001b[0m \u001b[0mslice\u001b[0m\u001b[1;33m)\u001b[0m\u001b[1;33m:\u001b[0m\u001b[1;33m\u001b[0m\u001b[1;33m\u001b[0m\u001b[0m\n\u001b[0;32m    622\u001b[0m             \u001b[1;32mraise\u001b[0m \u001b[0mIndexingError\u001b[0m\u001b[1;33m(\u001b[0m\u001b[1;34m\"no slices here, handle elsewhere\"\u001b[0m\u001b[1;33m)\u001b[0m\u001b[1;33m\u001b[0m\u001b[1;33m\u001b[0m\u001b[0m\n",
      "\u001b[1;32mc:\\users\\ibrahim\\appdata\\local\\programs\\python\\python37\\lib\\site-packages\\pandas\\core\\generic.py\u001b[0m in \u001b[0;36mxs\u001b[1;34m(self, key, axis, level, drop_level)\u001b[0m\n\u001b[0;32m   3532\u001b[0m         \u001b[0mindex\u001b[0m \u001b[1;33m=\u001b[0m \u001b[0mself\u001b[0m\u001b[1;33m.\u001b[0m\u001b[0mindex\u001b[0m\u001b[1;33m\u001b[0m\u001b[1;33m\u001b[0m\u001b[0m\n\u001b[0;32m   3533\u001b[0m         \u001b[1;32mif\u001b[0m \u001b[0misinstance\u001b[0m\u001b[1;33m(\u001b[0m\u001b[0mindex\u001b[0m\u001b[1;33m,\u001b[0m \u001b[0mMultiIndex\u001b[0m\u001b[1;33m)\u001b[0m\u001b[1;33m:\u001b[0m\u001b[1;33m\u001b[0m\u001b[1;33m\u001b[0m\u001b[0m\n\u001b[1;32m-> 3534\u001b[1;33m             \u001b[0mloc\u001b[0m\u001b[1;33m,\u001b[0m \u001b[0mnew_index\u001b[0m \u001b[1;33m=\u001b[0m \u001b[0mself\u001b[0m\u001b[1;33m.\u001b[0m\u001b[0mindex\u001b[0m\u001b[1;33m.\u001b[0m\u001b[0mget_loc_level\u001b[0m\u001b[1;33m(\u001b[0m\u001b[0mkey\u001b[0m\u001b[1;33m,\u001b[0m \u001b[0mdrop_level\u001b[0m\u001b[1;33m=\u001b[0m\u001b[0mdrop_level\u001b[0m\u001b[1;33m)\u001b[0m\u001b[1;33m\u001b[0m\u001b[1;33m\u001b[0m\u001b[0m\n\u001b[0m\u001b[0;32m   3535\u001b[0m         \u001b[1;32melse\u001b[0m\u001b[1;33m:\u001b[0m\u001b[1;33m\u001b[0m\u001b[1;33m\u001b[0m\u001b[0m\n\u001b[0;32m   3536\u001b[0m             \u001b[0mloc\u001b[0m \u001b[1;33m=\u001b[0m \u001b[0mself\u001b[0m\u001b[1;33m.\u001b[0m\u001b[0mindex\u001b[0m\u001b[1;33m.\u001b[0m\u001b[0mget_loc\u001b[0m\u001b[1;33m(\u001b[0m\u001b[0mkey\u001b[0m\u001b[1;33m)\u001b[0m\u001b[1;33m\u001b[0m\u001b[1;33m\u001b[0m\u001b[0m\n",
      "\u001b[1;32mc:\\users\\ibrahim\\appdata\\local\\programs\\python\\python37\\lib\\site-packages\\pandas\\core\\indexes\\multi.py\u001b[0m in \u001b[0;36mget_loc_level\u001b[1;34m(self, key, level, drop_level)\u001b[0m\n\u001b[0;32m   2805\u001b[0m                         \u001b[1;32mreturn\u001b[0m \u001b[1;33m(\u001b[0m\u001b[0mself\u001b[0m\u001b[1;33m.\u001b[0m\u001b[0m_engine\u001b[0m\u001b[1;33m.\u001b[0m\u001b[0mget_loc\u001b[0m\u001b[1;33m(\u001b[0m\u001b[0mkey\u001b[0m\u001b[1;33m)\u001b[0m\u001b[1;33m,\u001b[0m \u001b[1;32mNone\u001b[0m\u001b[1;33m)\u001b[0m\u001b[1;33m\u001b[0m\u001b[1;33m\u001b[0m\u001b[0m\n\u001b[0;32m   2806\u001b[0m                     \u001b[1;32mexcept\u001b[0m \u001b[0mKeyError\u001b[0m \u001b[1;32mas\u001b[0m \u001b[0me\u001b[0m\u001b[1;33m:\u001b[0m\u001b[1;33m\u001b[0m\u001b[1;33m\u001b[0m\u001b[0m\n\u001b[1;32m-> 2807\u001b[1;33m                         \u001b[1;32mraise\u001b[0m \u001b[0mKeyError\u001b[0m\u001b[1;33m(\u001b[0m\u001b[0mkey\u001b[0m\u001b[1;33m)\u001b[0m \u001b[1;32mfrom\u001b[0m \u001b[0me\u001b[0m\u001b[1;33m\u001b[0m\u001b[1;33m\u001b[0m\u001b[0m\n\u001b[0m\u001b[0;32m   2808\u001b[0m                 \u001b[1;32melse\u001b[0m\u001b[1;33m:\u001b[0m\u001b[1;33m\u001b[0m\u001b[1;33m\u001b[0m\u001b[0m\n\u001b[0;32m   2809\u001b[0m                     \u001b[1;32mreturn\u001b[0m \u001b[0mpartial_selection\u001b[0m\u001b[1;33m(\u001b[0m\u001b[0mkey\u001b[0m\u001b[1;33m)\u001b[0m\u001b[1;33m\u001b[0m\u001b[1;33m\u001b[0m\u001b[0m\n",
      "\u001b[1;31mKeyError\u001b[0m: ('BP01_BikeCounterStatus', False)"
     ]
    }
   ],
   "source": [
    "#kevin Tips: outer level & inner level\n",
    "temp_ser.loc['BP01_BikeCounterStatus',False]#Note: If you have string pass the value in double quotes"
   ]
  },
  {
   "cell_type": "code",
   "execution_count": 254,
   "metadata": {},
   "outputs": [
    {
     "data": {
      "text/plain": [
       "label\n",
       "BP02_eIACSTransactionTime      1\n",
       "BP02_eIACSTransactionTime-0    1\n",
       "BP02_eIACSTransactionTime-1    1\n",
       "Name: success, dtype: int64"
      ]
     },
     "execution_count": 254,
     "metadata": {},
     "output_type": "execute_result"
    }
   ],
   "source": [
    "temp_ser.loc[:,False]"
   ]
  },
  {
   "cell_type": "code",
   "execution_count": 255,
   "metadata": {},
   "outputs": [
    {
     "data": {
      "text/plain": [
       "label                        timeStamp     success\n",
       "BP01_BikeCounterStatus       1.590000e+12  True       10\n",
       "BP01_BikeCounterStatus-0     1.590000e+12  True       10\n",
       "BP01_BikeCounterStatus-1     1.590000e+12  True       10\n",
       "BP02_eIACSTransactionTime    1.590000e+12  True        9\n",
       "                                           False       1\n",
       "BP02_eIACSTransactionTime-0  1.590000e+12  True        9\n",
       "                                           False       1\n",
       "BP02_eIACSTransactionTime-1  1.590000e+12  True        9\n",
       "                                           False       1\n",
       "Name: success, dtype: int64"
      ]
     },
     "execution_count": 255,
     "metadata": {},
     "output_type": "execute_result"
    }
   ],
   "source": [
    "# Kevin Tipes:\n",
    "kevin_df=df_Jtl\n",
    "kevin_df.groupby(['label','timeStamp']).success.value_counts()\n"
   ]
  },
  {
   "cell_type": "code",
   "execution_count": 256,
   "metadata": {
    "scrolled": true
   },
   "outputs": [
    {
     "data": {
      "text/plain": [
       "success\n",
       "True    10\n",
       "Name: success, dtype: int64"
      ]
     },
     "execution_count": 256,
     "metadata": {},
     "output_type": "execute_result"
    }
   ],
   "source": [
    "# Tips: No need to run the filter over and over. Bcz we are using groupby method\n",
    "label_grp['success'].value_counts().loc['BP01_BikeCounterStatus']"
   ]
  },
  {
   "cell_type": "code",
   "execution_count": 257,
   "metadata": {},
   "outputs": [
    {
     "data": {
      "text/plain": [
       "success\n",
       "True     9\n",
       "False    1\n",
       "Name: success, dtype: int64"
      ]
     },
     "execution_count": 257,
     "metadata": {},
     "output_type": "execute_result"
    }
   ],
   "source": [
    "# Tips: No need to run the filter over and over. Bcz we are using groupby method\n",
    "label_grp['success'].value_counts().loc['BP02_eIACSTransactionTime']"
   ]
  },
  {
   "cell_type": "code",
   "execution_count": 258,
   "metadata": {},
   "outputs": [
    {
     "data": {
      "text/plain": [
       "success\n",
       "True    1.0\n",
       "Name: success, dtype: float64"
      ]
     },
     "execution_count": 258,
     "metadata": {},
     "output_type": "execute_result"
    }
   ],
   "source": [
    "label_grp['success'].value_counts(normalize=True).loc['BP01_BikeCounterStatus']"
   ]
  },
  {
   "cell_type": "code",
   "execution_count": 259,
   "metadata": {},
   "outputs": [
    {
     "data": {
      "text/plain": [
       "success\n",
       "True     0.9\n",
       "False    0.1\n",
       "Name: success, dtype: float64"
      ]
     },
     "execution_count": 259,
     "metadata": {},
     "output_type": "execute_result"
    }
   ],
   "source": [
    "label_grp['success'].value_counts(normalize=True).loc['BP02_eIACSTransactionTime']"
   ]
  },
  {
   "cell_type": "code",
   "execution_count": 260,
   "metadata": {},
   "outputs": [
    {
     "data": {
      "text/plain": [
       "label\n",
       "BP01_BikeCounterStatus         117.7\n",
       "BP01_BikeCounterStatus-0        90.5\n",
       "BP01_BikeCounterStatus-1        27.2\n",
       "BP02_eIACSTransactionTime      103.4\n",
       "BP02_eIACSTransactionTime-0     77.6\n",
       "BP02_eIACSTransactionTime-1     25.8\n",
       "Name: elapsed, dtype: float64"
      ]
     },
     "execution_count": 260,
     "metadata": {},
     "output_type": "execute_result"
    }
   ],
   "source": [
    "label_grp['elapsed'].mean()"
   ]
  },
  {
   "cell_type": "code",
   "execution_count": 261,
   "metadata": {},
   "outputs": [
    {
     "data": {
      "text/plain": [
       "117.7"
      ]
     },
     "execution_count": 261,
     "metadata": {},
     "output_type": "execute_result"
    }
   ],
   "source": [
    "label_grp['elapsed'].mean().loc['BP01_BikeCounterStatus']"
   ]
  },
  {
   "cell_type": "code",
   "execution_count": 262,
   "metadata": {},
   "outputs": [
    {
     "data": {
      "text/html": [
       "<div>\n",
       "<style scoped>\n",
       "    .dataframe tbody tr th:only-of-type {\n",
       "        vertical-align: middle;\n",
       "    }\n",
       "\n",
       "    .dataframe tbody tr th {\n",
       "        vertical-align: top;\n",
       "    }\n",
       "\n",
       "    .dataframe thead th {\n",
       "        text-align: right;\n",
       "    }\n",
       "</style>\n",
       "<table border=\"1\" class=\"dataframe\">\n",
       "  <thead>\n",
       "    <tr style=\"text-align: right;\">\n",
       "      <th></th>\n",
       "      <th>count</th>\n",
       "      <th>mean</th>\n",
       "      <th>std</th>\n",
       "      <th>min</th>\n",
       "      <th>50%</th>\n",
       "      <th>90%</th>\n",
       "      <th>max</th>\n",
       "    </tr>\n",
       "    <tr>\n",
       "      <th>label</th>\n",
       "      <th></th>\n",
       "      <th></th>\n",
       "      <th></th>\n",
       "      <th></th>\n",
       "      <th></th>\n",
       "      <th></th>\n",
       "      <th></th>\n",
       "    </tr>\n",
       "  </thead>\n",
       "  <tbody>\n",
       "    <tr>\n",
       "      <th>BP01_BikeCounterStatus</th>\n",
       "      <td>10.0</td>\n",
       "      <td>117.7</td>\n",
       "      <td>143.574255</td>\n",
       "      <td>38.0</td>\n",
       "      <td>43.0</td>\n",
       "      <td>294.3</td>\n",
       "      <td>468.0</td>\n",
       "    </tr>\n",
       "    <tr>\n",
       "      <th>BP01_BikeCounterStatus-0</th>\n",
       "      <td>10.0</td>\n",
       "      <td>90.5</td>\n",
       "      <td>134.725441</td>\n",
       "      <td>20.0</td>\n",
       "      <td>24.0</td>\n",
       "      <td>202.1</td>\n",
       "      <td>446.0</td>\n",
       "    </tr>\n",
       "    <tr>\n",
       "      <th>BP01_BikeCounterStatus-1</th>\n",
       "      <td>10.0</td>\n",
       "      <td>27.2</td>\n",
       "      <td>25.611629</td>\n",
       "      <td>17.0</td>\n",
       "      <td>19.0</td>\n",
       "      <td>29.8</td>\n",
       "      <td>100.0</td>\n",
       "    </tr>\n",
       "    <tr>\n",
       "      <th>BP02_eIACSTransactionTime</th>\n",
       "      <td>10.0</td>\n",
       "      <td>103.4</td>\n",
       "      <td>136.500875</td>\n",
       "      <td>34.0</td>\n",
       "      <td>43.0</td>\n",
       "      <td>220.2</td>\n",
       "      <td>465.0</td>\n",
       "    </tr>\n",
       "    <tr>\n",
       "      <th>BP02_eIACSTransactionTime-0</th>\n",
       "      <td>10.0</td>\n",
       "      <td>77.6</td>\n",
       "      <td>134.287585</td>\n",
       "      <td>18.0</td>\n",
       "      <td>21.0</td>\n",
       "      <td>200.9</td>\n",
       "      <td>434.0</td>\n",
       "    </tr>\n",
       "    <tr>\n",
       "      <th>BP02_eIACSTransactionTime-1</th>\n",
       "      <td>10.0</td>\n",
       "      <td>25.8</td>\n",
       "      <td>20.719288</td>\n",
       "      <td>16.0</td>\n",
       "      <td>17.0</td>\n",
       "      <td>36.2</td>\n",
       "      <td>83.0</td>\n",
       "    </tr>\n",
       "  </tbody>\n",
       "</table>\n",
       "</div>"
      ],
      "text/plain": [
       "                             count   mean         std   min   50%    90%  \\\n",
       "label                                                                      \n",
       "BP01_BikeCounterStatus        10.0  117.7  143.574255  38.0  43.0  294.3   \n",
       "BP01_BikeCounterStatus-0      10.0   90.5  134.725441  20.0  24.0  202.1   \n",
       "BP01_BikeCounterStatus-1      10.0   27.2   25.611629  17.0  19.0   29.8   \n",
       "BP02_eIACSTransactionTime     10.0  103.4  136.500875  34.0  43.0  220.2   \n",
       "BP02_eIACSTransactionTime-0   10.0   77.6  134.287585  18.0  21.0  200.9   \n",
       "BP02_eIACSTransactionTime-1   10.0   25.8   20.719288  16.0  17.0   36.2   \n",
       "\n",
       "                               max  \n",
       "label                               \n",
       "BP01_BikeCounterStatus       468.0  \n",
       "BP01_BikeCounterStatus-0     446.0  \n",
       "BP01_BikeCounterStatus-1     100.0  \n",
       "BP02_eIACSTransactionTime    465.0  \n",
       "BP02_eIACSTransactionTime-0  434.0  \n",
       "BP02_eIACSTransactionTime-1   83.0  "
      ]
     },
     "execution_count": 262,
     "metadata": {},
     "output_type": "execute_result"
    }
   ],
   "source": [
    "# To run multiple aggrigate function on you group\n",
    "\n",
    "label_grp['elapsed'].agg(['min','mean','max','count'])\n",
    "df_res_summary=label_grp['elapsed'].describe( percentiles = [0.90] )\n",
    "df_res_summary"
   ]
  },
  {
   "cell_type": "code",
   "execution_count": 263,
   "metadata": {},
   "outputs": [
    {
     "data": {
      "text/html": [
       "<div>\n",
       "<style scoped>\n",
       "    .dataframe tbody tr th:only-of-type {\n",
       "        vertical-align: middle;\n",
       "    }\n",
       "\n",
       "    .dataframe tbody tr th {\n",
       "        vertical-align: top;\n",
       "    }\n",
       "\n",
       "    .dataframe thead th {\n",
       "        text-align: right;\n",
       "    }\n",
       "</style>\n",
       "<table border=\"1\" class=\"dataframe\">\n",
       "  <thead>\n",
       "    <tr style=\"text-align: right;\">\n",
       "      <th></th>\n",
       "      <th>count</th>\n",
       "      <th>mean</th>\n",
       "      <th>std</th>\n",
       "      <th>min</th>\n",
       "      <th>50%</th>\n",
       "      <th>90%</th>\n",
       "      <th>max</th>\n",
       "      <th>False</th>\n",
       "      <th>True</th>\n",
       "    </tr>\n",
       "    <tr>\n",
       "      <th>label</th>\n",
       "      <th></th>\n",
       "      <th></th>\n",
       "      <th></th>\n",
       "      <th></th>\n",
       "      <th></th>\n",
       "      <th></th>\n",
       "      <th></th>\n",
       "      <th></th>\n",
       "      <th></th>\n",
       "    </tr>\n",
       "  </thead>\n",
       "  <tbody>\n",
       "    <tr>\n",
       "      <th>BP01_BikeCounterStatus</th>\n",
       "      <td>10.0</td>\n",
       "      <td>117.7</td>\n",
       "      <td>143.574255</td>\n",
       "      <td>38.0</td>\n",
       "      <td>43.0</td>\n",
       "      <td>294.3</td>\n",
       "      <td>468.0</td>\n",
       "      <td>NaN</td>\n",
       "      <td>10.0</td>\n",
       "    </tr>\n",
       "    <tr>\n",
       "      <th>BP01_BikeCounterStatus-0</th>\n",
       "      <td>10.0</td>\n",
       "      <td>90.5</td>\n",
       "      <td>134.725441</td>\n",
       "      <td>20.0</td>\n",
       "      <td>24.0</td>\n",
       "      <td>202.1</td>\n",
       "      <td>446.0</td>\n",
       "      <td>NaN</td>\n",
       "      <td>10.0</td>\n",
       "    </tr>\n",
       "    <tr>\n",
       "      <th>BP01_BikeCounterStatus-1</th>\n",
       "      <td>10.0</td>\n",
       "      <td>27.2</td>\n",
       "      <td>25.611629</td>\n",
       "      <td>17.0</td>\n",
       "      <td>19.0</td>\n",
       "      <td>29.8</td>\n",
       "      <td>100.0</td>\n",
       "      <td>NaN</td>\n",
       "      <td>10.0</td>\n",
       "    </tr>\n",
       "    <tr>\n",
       "      <th>BP02_eIACSTransactionTime</th>\n",
       "      <td>10.0</td>\n",
       "      <td>103.4</td>\n",
       "      <td>136.500875</td>\n",
       "      <td>34.0</td>\n",
       "      <td>43.0</td>\n",
       "      <td>220.2</td>\n",
       "      <td>465.0</td>\n",
       "      <td>1.0</td>\n",
       "      <td>9.0</td>\n",
       "    </tr>\n",
       "    <tr>\n",
       "      <th>BP02_eIACSTransactionTime-0</th>\n",
       "      <td>10.0</td>\n",
       "      <td>77.6</td>\n",
       "      <td>134.287585</td>\n",
       "      <td>18.0</td>\n",
       "      <td>21.0</td>\n",
       "      <td>200.9</td>\n",
       "      <td>434.0</td>\n",
       "      <td>1.0</td>\n",
       "      <td>9.0</td>\n",
       "    </tr>\n",
       "    <tr>\n",
       "      <th>BP02_eIACSTransactionTime-1</th>\n",
       "      <td>10.0</td>\n",
       "      <td>25.8</td>\n",
       "      <td>20.719288</td>\n",
       "      <td>16.0</td>\n",
       "      <td>17.0</td>\n",
       "      <td>36.2</td>\n",
       "      <td>83.0</td>\n",
       "      <td>1.0</td>\n",
       "      <td>9.0</td>\n",
       "    </tr>\n",
       "  </tbody>\n",
       "</table>\n",
       "</div>"
      ],
      "text/plain": [
       "                             count   mean         std   min   50%    90%  \\\n",
       "label                                                                      \n",
       "BP01_BikeCounterStatus        10.0  117.7  143.574255  38.0  43.0  294.3   \n",
       "BP01_BikeCounterStatus-0      10.0   90.5  134.725441  20.0  24.0  202.1   \n",
       "BP01_BikeCounterStatus-1      10.0   27.2   25.611629  17.0  19.0   29.8   \n",
       "BP02_eIACSTransactionTime     10.0  103.4  136.500875  34.0  43.0  220.2   \n",
       "BP02_eIACSTransactionTime-0   10.0   77.6  134.287585  18.0  21.0  200.9   \n",
       "BP02_eIACSTransactionTime-1   10.0   25.8   20.719288  16.0  17.0   36.2   \n",
       "\n",
       "                               max  False  True  \n",
       "label                                            \n",
       "BP01_BikeCounterStatus       468.0    NaN  10.0  \n",
       "BP01_BikeCounterStatus-0     446.0    NaN  10.0  \n",
       "BP01_BikeCounterStatus-1     100.0    NaN  10.0  \n",
       "BP02_eIACSTransactionTime    465.0    1.0   9.0  \n",
       "BP02_eIACSTransactionTime-0  434.0    1.0   9.0  \n",
       "BP02_eIACSTransactionTime-1   83.0    1.0   9.0  "
      ]
     },
     "execution_count": 263,
     "metadata": {},
     "output_type": "execute_result"
    }
   ],
   "source": [
    "both=pd.merge(df_res_summary,df_pass_fail,left_index=True,right_index=True)\n",
    "both"
   ]
  },
  {
   "cell_type": "code",
   "execution_count": 264,
   "metadata": {},
   "outputs": [
    {
     "data": {
      "text/plain": [
       "min       38.0\n",
       "mean     117.7\n",
       "max      468.0\n",
       "count     10.0\n",
       "Name: BP01_BikeCounterStatus, dtype: float64"
      ]
     },
     "execution_count": 264,
     "metadata": {},
     "output_type": "execute_result"
    }
   ],
   "source": [
    "# To run multiple aggrigate function on you group\n",
    "'min','mean','90%','max','count'\n",
    "label_grp['elapsed'].agg(['min','mean','max','count']).loc['BP01_BikeCounterStatus']"
   ]
  },
  {
   "cell_type": "code",
   "execution_count": 265,
   "metadata": {},
   "outputs": [
    {
     "data": {
      "text/plain": [
       "11    False\n",
       "14     True\n",
       "29     True\n",
       "32     True\n",
       "44     True\n",
       "47     True\n",
       "50     True\n",
       "53     True\n",
       "56     True\n",
       "59     True\n",
       "Name: URL, dtype: bool"
      ]
     },
     "execution_count": 265,
     "metadata": {},
     "output_type": "execute_result"
    }
   ],
   "source": [
    "filt=(df_Jtl['label']==\"BP01_BikeCounterStatus-1\")\n",
    "df_Jtl.loc[filt]['URL'].str.contains('http')"
   ]
  },
  {
   "cell_type": "code",
   "execution_count": 266,
   "metadata": {},
   "outputs": [
    {
     "data": {
      "text/plain": [
       "9"
      ]
     },
     "execution_count": 266,
     "metadata": {},
     "output_type": "execute_result"
    }
   ],
   "source": [
    "filt=(df_Jtl['label']==\"BP01_BikeCounterStatus-1\")\n",
    "df_Jtl.loc[filt]['URL'].str.contains('http').sum()"
   ]
  },
  {
   "cell_type": "code",
   "execution_count": 267,
   "metadata": {},
   "outputs": [
    {
     "ename": "AttributeError",
     "evalue": "'SeriesGroupBy' object has no attribute 'str'",
     "output_type": "error",
     "traceback": [
      "\u001b[1;31m---------------------------------------------------------------------------\u001b[0m",
      "\u001b[1;31mAttributeError\u001b[0m                            Traceback (most recent call last)",
      "\u001b[1;32m<ipython-input-267-cb90379dad17>\u001b[0m in \u001b[0;36m<module>\u001b[1;34m\u001b[0m\n\u001b[1;32m----> 1\u001b[1;33m \u001b[0mlabel_grp\u001b[0m\u001b[1;33m[\u001b[0m\u001b[1;34m'URL'\u001b[0m\u001b[1;33m]\u001b[0m\u001b[1;33m.\u001b[0m\u001b[0mstr\u001b[0m\u001b[1;33m.\u001b[0m\u001b[0mcontains\u001b[0m\u001b[1;33m(\u001b[0m\u001b[1;34m'http'\u001b[0m\u001b[1;33m)\u001b[0m\u001b[1;33m.\u001b[0m\u001b[0msum\u001b[0m\u001b[1;33m(\u001b[0m\u001b[1;33m)\u001b[0m\u001b[1;33m\u001b[0m\u001b[1;33m\u001b[0m\u001b[0m\n\u001b[0m",
      "\u001b[1;32mc:\\users\\ibrahim\\appdata\\local\\programs\\python\\python37\\lib\\site-packages\\pandas\\core\\groupby\\groupby.py\u001b[0m in \u001b[0;36m__getattr__\u001b[1;34m(self, attr)\u001b[0m\n\u001b[0;32m    578\u001b[0m \u001b[1;33m\u001b[0m\u001b[0m\n\u001b[0;32m    579\u001b[0m         raise AttributeError(\n\u001b[1;32m--> 580\u001b[1;33m             \u001b[1;34mf\"'{type(self).__name__}' object has no attribute '{attr}'\"\u001b[0m\u001b[1;33m\u001b[0m\u001b[1;33m\u001b[0m\u001b[0m\n\u001b[0m\u001b[0;32m    581\u001b[0m         )\n\u001b[0;32m    582\u001b[0m \u001b[1;33m\u001b[0m\u001b[0m\n",
      "\u001b[1;31mAttributeError\u001b[0m: 'SeriesGroupBy' object has no attribute 'str'"
     ]
    }
   ],
   "source": [
    "label_grp['URL'].str.contains('http').sum()"
   ]
  },
  {
   "cell_type": "code",
   "execution_count": 268,
   "metadata": {},
   "outputs": [
    {
     "data": {
      "text/plain": [
       "label\n",
       "BP01_BikeCounterStatus          0\n",
       "BP01_BikeCounterStatus-0       10\n",
       "BP01_BikeCounterStatus-1        9\n",
       "BP02_eIACSTransactionTime       0\n",
       "BP02_eIACSTransactionTime-0    10\n",
       "BP02_eIACSTransactionTime-1    10\n",
       "Name: URL, dtype: int64"
      ]
     },
     "execution_count": 268,
     "metadata": {},
     "output_type": "execute_result"
    }
   ],
   "source": [
    "label_grp['URL'].apply(lambda x:x.str.contains('http').sum())"
   ]
  },
  {
   "cell_type": "code",
   "execution_count": 269,
   "metadata": {},
   "outputs": [],
   "source": [
    "#samples=df_Jtl['label'].value_counts()\n",
    "#samples\n",
    "samples=df_Jtl['label'].value_counts()\n",
    "#samples"
   ]
  },
  {
   "cell_type": "code",
   "execution_count": 270,
   "metadata": {},
   "outputs": [
    {
     "data": {
      "text/plain": [
       "10"
      ]
     },
     "execution_count": 270,
     "metadata": {},
     "output_type": "execute_result"
    }
   ],
   "source": [
    "label_grp_t=df_Jtl.groupby('label')\n",
    "Txn_BP02_eIACSTransactionTime=label_grp_t.get_group('BP02_eIACSTransactionTime')\n",
    "Txn_BP02_eIACSTransactionTime\n",
    "label_grp_t=df_Jtl.groupby('label')\n",
    "label_grp_t['success'].value_counts().loc['BP01_BikeCounterStatus'][1]\n"
   ]
  },
  {
   "cell_type": "code",
   "execution_count": 271,
   "metadata": {},
   "outputs": [
    {
     "data": {
      "text/plain": [
       "10"
      ]
     },
     "execution_count": 271,
     "metadata": {},
     "output_type": "execute_result"
    }
   ],
   "source": [
    "Txn_BP02_eIACSTransactionTime_Total=Txn_BP02_eIACSTransactionTime['success'].count()\n",
    "Txn_BP02_eIACSTransactionTime_Total"
   ]
  },
  {
   "cell_type": "code",
   "execution_count": 272,
   "metadata": {},
   "outputs": [
    {
     "data": {
      "text/plain": [
       "True     9\n",
       "False    1\n",
       "Name: success, dtype: int64"
      ]
     },
     "execution_count": 272,
     "metadata": {},
     "output_type": "execute_result"
    }
   ],
   "source": [
    "Txn_BP02_eIACSTransactionTime_PF=Txn_BP02_eIACSTransactionTime['success'].value_counts()\n",
    "Txn_BP02_eIACSTransactionTime_PF"
   ]
  },
  {
   "cell_type": "code",
   "execution_count": 273,
   "metadata": {},
   "outputs": [
    {
     "name": "stdout",
     "output_type": "stream",
     "text": [
      "True     9\n",
      "False    1\n",
      "Name: success, dtype: int64\n"
     ]
    }
   ],
   "source": [
    "print(Txn_BP02_eIACSTransactionTime_PF)"
   ]
  },
  {
   "cell_type": "code",
   "execution_count": null,
   "metadata": {},
   "outputs": [],
   "source": []
  },
  {
   "cell_type": "code",
   "execution_count": null,
   "metadata": {},
   "outputs": [],
   "source": []
  },
  {
   "cell_type": "code",
   "execution_count": null,
   "metadata": {},
   "outputs": [],
   "source": []
  },
  {
   "cell_type": "code",
   "execution_count": null,
   "metadata": {},
   "outputs": [],
   "source": []
  }
 ],
 "metadata": {
  "kernelspec": {
   "display_name": "Python 3",
   "language": "python",
   "name": "python3"
  },
  "language_info": {
   "codemirror_mode": {
    "name": "ipython",
    "version": 3
   },
   "file_extension": ".py",
   "mimetype": "text/x-python",
   "name": "python",
   "nbconvert_exporter": "python",
   "pygments_lexer": "ipython3",
   "version": "3.7.6"
  }
 },
 "nbformat": 4,
 "nbformat_minor": 4
}
