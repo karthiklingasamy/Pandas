{
 "cells": [
  {
   "cell_type": "code",
   "execution_count": null,
   "metadata": {},
   "outputs": [],
   "source": [
    "import pandas as pd\n",
    "import pyodbc\n",
    "#https://tomaztsql.wordpress.com/2018/07/15/using-py thon-pandas-dataframe-to-read-and-insert-data-to-microsoft-sql-server/\n",
    "sql_conn = pyodbc.connect('DRIVER={SQL Server};SERVER=xxx.xxx.xxx.xx;DATABASE=xxx;UID=xxxx;PWD=xxxxx')\n",
    "query = \"\"\"\n",
    "SELECT TOP (100) [xxxxx]\n",
    "      ,[xxxxxx]\n",
    "      ,[xxxxxx]\n",
    "      ,[xxxxxx]\n",
    "      ,[xxxxxx]\n",
    "      ,[xxxxx]\n",
    "      ,[xxxxx]\n",
    "      ,[xxxxxx]\n",
    "      ,[xxxxxx]\n",
    "      ,[xxxxx]\n",
    "  FROM [xxxxx].[dbo].[xxxxxx]\n",
    "\"\"\"\n",
    "df = pd.read_sql(query, sql_conn)\n",
    "\n",
    "df.tail(100)"
   ]
  }
 ],
 "metadata": {
  "kernelspec": {
   "display_name": "Python 3",
   "language": "python",
   "name": "python3"
  },
  "language_info": {
   "codemirror_mode": {
    "name": "ipython",
    "version": 3
   },
   "file_extension": ".py",
   "mimetype": "text/x-python",
   "name": "python",
   "nbconvert_exporter": "python",
   "pygments_lexer": "ipython3",
   "version": "3.8.2"
  }
 },
 "nbformat": 4,
 "nbformat_minor": 4
}
